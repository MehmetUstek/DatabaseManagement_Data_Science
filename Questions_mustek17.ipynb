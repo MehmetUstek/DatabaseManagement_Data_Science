{
 "cells": [
  {
   "cell_type": "markdown",
   "metadata": {},
   "source": [
    "# Homework 4"
   ]
  },
  {
   "cell_type": "markdown",
   "metadata": {},
   "source": [
    "## Mysql-Python Connection"
   ]
  },
  {
   "cell_type": "code",
   "execution_count": 53,
   "metadata": {},
   "outputs": [],
   "source": [
    "import mysql.connector\n",
    "import pandas as pd\n",
    "\n",
    "import matplotlib.pyplot as plt\n",
    "import seaborn as sns\n",
    "import csv\n",
    "\n",
    "%matplotlib inline"
   ]
  },
  {
   "cell_type": "code",
   "execution_count": 54,
   "metadata": {},
   "outputs": [
    {
     "name": "stdout",
     "output_type": "stream",
     "text": [
      "<mysql.connector.connection.MySQLConnection object at 0x00000200904FC8E0>\n"
     ]
    }
   ],
   "source": [
    "db_connection = mysql.connector.connect(\n",
    "  host=\"localhost\",\n",
    "  user=\"root\",\n",
    "  passwd=\"root\", # change password\n",
    "  auth_plugin='mysql_native_password'\n",
    ")\n",
    "print(db_connection)"
   ]
  },
  {
   "cell_type": "code",
   "execution_count": 55,
   "metadata": {
    "scrolled": true
   },
   "outputs": [],
   "source": [
    "# creating database_cursor to perform SQL operation to run queries\n",
    "db_cursor = db_connection.cursor(buffered=True)\n",
    "    "
   ]
  },
  {
   "cell_type": "code",
   "execution_count": 56,
   "metadata": {},
   "outputs": [],
   "source": [
    "# Drop the database before creating same one. If your machine already has this db, you can uncomment the following code,\n",
    "# and run to clear existing db.\n",
    "# db_cursor.execute(\"DROP DATABASE ps_ecommerce\")"
   ]
  },
  {
   "cell_type": "code",
   "execution_count": 57,
   "metadata": {},
   "outputs": [
    {
     "name": "stdout",
     "output_type": "stream",
     "text": [
      "('information_schema',)\n",
      "('mysql',)\n",
      "('performance_schema',)\n",
      "('ps_ecommerce',)\n",
      "('sys',)\n",
      "('testdb',)\n",
      "('world',)\n"
     ]
    }
   ],
   "source": [
    "# executing cursor with execute method and pass SQL query\n",
    "db_cursor.execute(\"CREATE DATABASE ps_ecommerce\")\n",
    "\n",
    "# get list of all databases\n",
    "db_cursor.execute(\"SHOW DATABASES\")\n",
    "\n",
    "# print all databases\n",
    "for db in db_cursor:\n",
    "    print(db)"
   ]
  },
  {
   "cell_type": "code",
   "execution_count": 58,
   "metadata": {},
   "outputs": [],
   "source": [
    "db_cursor.execute(\"USE ps_ecommerce\")"
   ]
  },
  {
   "cell_type": "markdown",
   "metadata": {},
   "source": [
    "## Load Data to Mysql Tables"
   ]
  },
  {
   "cell_type": "code",
   "execution_count": 59,
   "metadata": {},
   "outputs": [],
   "source": [
    "def populate_table(db_connection, db_cursor, insert_query, file_path):\n",
    "    \n",
    "    with open(file_path, mode='r') as csv_data:\n",
    "        reader = csv.reader(csv_data, delimiter=';')\n",
    "        csv_data_list = list(reader)\n",
    "        for row in csv_data_list[1:]:\n",
    "            row = tuple(map(lambda x: None if x == \"\" else x, row[0].split(',')))\n",
    "            db_cursor.execute(insert_query, row)\n",
    "        \n",
    "    db_connection.commit()"
   ]
  },
  {
   "cell_type": "code",
   "execution_count": 60,
   "metadata": {},
   "outputs": [],
   "source": [
    "# create CUSTOMERS table\n",
    "db_cursor.execute(\"\"\"CREATE TABLE CUSTOMERS (customer_id VARCHAR(50) NOT NULL, \n",
    "                                          customer_unique_id VARCHAR(50) NOT NULL, \n",
    "                                          customer_zip_code_prefix VARCHAR(50), \n",
    "                                          customer_city VARCHAR(50), \n",
    "                                          customer_state VARCHAR(50))\"\"\")\n",
    "\n",
    "insert_customers = (\n",
    "    \"INSERT INTO CUSTOMERS(customer_id, customer_unique_id, customer_zip_code_prefix, customer_city, customer_state) \"\n",
    "    \"VALUES (%s, %s, %s, %s, %s)\"\n",
    ")\n",
    "\n",
    "populate_table(db_connection, db_cursor, insert_customers, \"customers.csv\")"
   ]
  },
  {
   "cell_type": "code",
   "execution_count": 61,
   "metadata": {},
   "outputs": [],
   "source": [
    "# create ORDER_PAYMENTS table\n",
    "db_cursor.execute(\"\"\"CREATE TABLE ORDER_PAYMENTS (order_id VARCHAR(50) NOT NULL, \n",
    "                                          payment_sequential INTEGER, \n",
    "                                          payment_type VARCHAR(50), \n",
    "                                          payment_installments INTEGER, \n",
    "                                          payment_value FLOAT)\"\"\")\n",
    "\n",
    "insert_orderpayments = (\n",
    "    \"INSERT INTO ORDER_PAYMENTS(order_id, payment_sequential, payment_type, payment_installments, payment_value) \"\n",
    "    \"VALUES (%s, %s, %s, %s, %s)\"\n",
    ")\n",
    "\n",
    "populate_table(db_connection, db_cursor, insert_orderpayments, \"order_payments.csv\")"
   ]
  },
  {
   "cell_type": "code",
   "execution_count": 62,
   "metadata": {},
   "outputs": [],
   "source": [
    "# create ORDER_ITEMS table\n",
    "db_cursor.execute(\"\"\"CREATE TABLE ORDER_ITEMS (order_id VARCHAR(50) NOT NULL, \n",
    "                                          order_item_id INTEGER, \n",
    "                                          product_id VARCHAR(50), \n",
    "                                          seller_id VARCHAR(50), \n",
    "                                          shipping_limit_date DATETIME,\n",
    "                                          price FLOAT,\n",
    "                                          freight_value FLOAT)\"\"\")\n",
    "\n",
    "insert_orderitems = (\n",
    "    \"INSERT INTO ORDER_ITEMS(order_id, order_item_id, product_id, seller_id, shipping_limit_date, price, freight_value) \"\n",
    "    \"VALUES (%s, %s, %s, %s, %s, %s, %s)\"\n",
    ")\n",
    "\n",
    "populate_table(db_connection, db_cursor, insert_orderitems, \"order_items.csv\")"
   ]
  },
  {
   "cell_type": "code",
   "execution_count": 63,
   "metadata": {},
   "outputs": [],
   "source": [
    "# create ORDERS table\n",
    "db_cursor.execute(\"\"\"CREATE TABLE ORDERS (order_id VARCHAR(50) NOT NULL, \n",
    "                                          customer_id VARCHAR(50) NOT NULL, \n",
    "                                          order_status VARCHAR(50), \n",
    "                                          order_purchase_timestamp DATETIME, \n",
    "                                          order_approved_at DATETIME,\n",
    "                                          order_delivered_carrier_date DATETIME,\n",
    "                                          order_delivered_customer_date DATETIME,\n",
    "                                          order_estimated_delivery_date DATETIME)\"\"\")\n",
    "\n",
    "insert_orders = (\n",
    "    \"INSERT INTO ORDERS(order_id, customer_id, order_status, order_purchase_timestamp, order_approved_at, order_delivered_carrier_date, order_delivered_customer_date, order_estimated_delivery_date) \"\n",
    "    \"VALUES (%s, %s, %s, %s, %s, %s, %s, %s)\"\n",
    ")\n",
    "\n",
    "populate_table(db_connection, db_cursor, insert_orders, \"orders.csv\")"
   ]
  },
  {
   "cell_type": "markdown",
   "metadata": {},
   "source": [
    "## Question 1 (10 pts)"
   ]
  },
  {
   "cell_type": "code",
   "execution_count": 64,
   "metadata": {},
   "outputs": [],
   "source": [
    "# Find the average number of weeks between products' actual delivery dates and estimated delivery dates. \n",
    "# Use order_delivered_customer_date column as actual delivery dates and \n",
    "# order_estimated_delivery_date column as estimated delivery dates.\n",
    "\n",
    "# HINT: There is a function in MySQL that makes it easy to compute the difference between two timestamps.\n",
    "# We recommend that you search for it online and use it in your answer."
   ]
  },
  {
   "cell_type": "code",
   "execution_count": 65,
   "metadata": {},
   "outputs": [],
   "source": [
    "# Is 4 days counted as 0 weeks, or is it counted as 4/7 weeks?\n",
    "# Code below counts for the case it counts as 4/7 weeks.\n",
    "\n",
    "# db_cursor.execute(\"\"\"SELECT AVG(TIMESTAMPDIFF(day, orders.order_delivered_customer_date, orders.order_estimated_delivery_date) / 7)\n",
    "#                     FROM orders\n",
    "#                         \"\"\")\n",
    "\n",
    "# The following code is for the case (i.e) 4 days counted as 0 weeks.\n",
    "db_cursor.execute(\"\"\"SELECT AVG(TIMESTAMPDIFF(week, orders.order_delivered_customer_date, orders.order_estimated_delivery_date))\n",
    "                    FROM orders\n",
    "                        \"\"\")\n",
    "\n",
    "avg_number_of_weeks = db_cursor.fetchall()"
   ]
  },
  {
   "cell_type": "code",
   "execution_count": 66,
   "metadata": {},
   "outputs": [
    {
     "name": "stdout",
     "output_type": "stream",
     "text": [
      "1.1862\n"
     ]
    }
   ],
   "source": [
    "avg_diff_weeks = list(avg_number_of_weeks)[0][0]\n",
    "print(avg_diff_weeks)"
   ]
  },
  {
   "cell_type": "markdown",
   "metadata": {},
   "source": [
    "## Question 2 (15 pts)"
   ]
  },
  {
   "cell_type": "code",
   "execution_count": 67,
   "metadata": {},
   "outputs": [],
   "source": [
    "# Consider the ORDER_COSTS table below. Using this table and the CUSTOMERS table, find the following:\n",
    "# In which states do customers spend, on average, more than 164 on their orders? \n",
    "# Fetch those states and average order costs in those states. Results should be ordered from lowest cost to highest."
   ]
  },
  {
   "cell_type": "code",
   "execution_count": 68,
   "metadata": {},
   "outputs": [],
   "source": [
    "order_costs_query = \"\"\"\n",
    "                    CREATE TABLE ORDER_COSTS AS (\n",
    "                        SELECT ORDERS.order_id, SUM(price) AS cost, ORDERS.customer_id as cid\n",
    "                        FROM ORDER_ITEMS \n",
    "                             JOIN ORDERS\n",
    "                             ON ORDER_ITEMS.order_id=ORDERS.order_id\n",
    "                        GROUP BY order_id, ORDERS.customer_id)\n",
    "                    \"\"\"\n",
    "\n",
    "db_cursor.execute(order_costs_query)"
   ]
  },
  {
   "cell_type": "code",
   "execution_count": 69,
   "metadata": {},
   "outputs": [],
   "source": [
    "# Solve Question 2 below\n",
    "db_cursor.execute(\"\"\"SELECT AVG(cost) as average , c.customer_state as state\n",
    "                    FROM order_costs, customers as c\n",
    "                    WHERE cost > 0 and order_costs.cid = c.customer_id\n",
    "                    GROUP BY c.customer_state\n",
    "                    HAVING average > 164\n",
    "                    ORDER BY AVG(cost) ASC\"\"\")\n",
    "\n",
    "state_avg_above_164 = db_cursor.fetchall()"
   ]
  },
  {
   "cell_type": "code",
   "execution_count": 70,
   "metadata": {},
   "outputs": [
    {
     "name": "stdout",
     "output_type": "stream",
     "text": [
      "[165.95715586927687, 168.72618171229507, 173.50979253761005, 179.9429249493581, 182.85564198849806, 184.82068734097837, 202.31006200565315, 217.85388387291178, 222.1680950891404, 224.56719970703125, 279.38705960442036]\n",
      "['PE', 'RN', 'MS', 'TO', 'PA', 'MT', 'AL', 'RO', 'PB', 'AC', 'RR']\n"
     ]
    }
   ],
   "source": [
    "average, state = map(list, zip(*state_avg_above_164))\n",
    "print(average)\n",
    "print(state)"
   ]
  },
  {
   "cell_type": "markdown",
   "metadata": {},
   "source": [
    "## Question 3 (15 pts)"
   ]
  },
  {
   "cell_type": "code",
   "execution_count": 71,
   "metadata": {},
   "outputs": [],
   "source": [
    "# Implement the following function get_month. It takes as input a month as an integer.\n",
    "# It needs to compute: In the given month, how many payments were made with each different payment type?\n",
    "# e.g.: Credit card -> 5000 payments, debit card -> 100 payments, voucher -> 300 payments, ...\n",
    "\n",
    "# HINT: One of the MySQL functions we covered in the PS makes it easy to work with months."
   ]
  },
  {
   "cell_type": "code",
   "execution_count": 72,
   "metadata": {},
   "outputs": [],
   "source": [
    "# Solve Question 3 below\n",
    "\n",
    "def get_month(month):\n",
    "    \n",
    "    query = \"\"\"SELECT COUNT(ORDERS.order_id), payment_type\n",
    "                FROM ORDERS, order_payments\n",
    "                where orders.order_id = order_payments.order_id and MONTH(ORDERS.order_purchase_timestamp) =  {} \n",
    "                GROUP BY payment_type\n",
    "    \"\"\".format(month)\n",
    "#     print(query)\n",
    "    db_cursor.execute(query)\n",
    "    items = db_cursor.fetchall()\n",
    "    return items"
   ]
  },
  {
   "cell_type": "code",
   "execution_count": 73,
   "metadata": {},
   "outputs": [
    {
     "name": "stdout",
     "output_type": "stream",
     "text": [
      "[(6609, 'credit_card'), (1723, 'boleto'), (424, 'voucher'), (82, 'debit_card')]\n"
     ]
    }
   ],
   "source": [
    "# Here is a sample function call for get_month:\n",
    "print(get_month(\"2\"))"
   ]
  },
  {
   "cell_type": "markdown",
   "metadata": {},
   "source": [
    "## Question 4 (10 pts)"
   ]
  },
  {
   "cell_type": "code",
   "execution_count": 74,
   "metadata": {},
   "outputs": [],
   "source": [
    "# Consider the PRODUCTS table below and the ORDER_ITEMS table from earlier. \n",
    "# For each product category other than {\"moveis_decoracao\", \"beleza_saude\"}, find the minimum price that was paid for\n",
    "# an item from that category. Limit the result to retrieve only 6 rows.\n",
    "\n",
    "# The result should be like: category1 -> minprice1, category2 -> minprice2, ..."
   ]
  },
  {
   "cell_type": "code",
   "execution_count": 75,
   "metadata": {},
   "outputs": [],
   "source": [
    "# db_cursor.execute(\"DROP TABLE PRODUCTS\")"
   ]
  },
  {
   "cell_type": "code",
   "execution_count": 76,
   "metadata": {},
   "outputs": [],
   "source": [
    "db_cursor.execute(\"\"\"CREATE TABLE PRODUCTS (product_id VARCHAR(50) NOT NULL, \n",
    "                                            product_category_name VARCHAR(50), \n",
    "                                            product_name_lenght INTEGER, \n",
    "                                            product_description_lenght INTEGER, \n",
    "                                            product_photos_qty INTEGER,\n",
    "                                            product_weight_g INTEGER,\n",
    "                                            product_length_cm INTEGER,\n",
    "                                            product_height_cm INTEGER,\n",
    "                                            product_width_cm INTEGER)\"\"\")\n",
    "\n",
    "insert_products = (\n",
    "    \"INSERT INTO PRODUCTS(product_id, product_category_name, product_name_lenght, product_description_lenght, product_photos_qty, product_weight_g, product_length_cm,  product_height_cm, product_width_cm) \"\n",
    "    \"VALUES (%s, %s, %s, %s, %s, %s, %s, %s, %s)\"\n",
    ")\n",
    "\n",
    "populate_table(db_connection, db_cursor, insert_products, \"products.csv\")"
   ]
  },
  {
   "cell_type": "code",
   "execution_count": 77,
   "metadata": {},
   "outputs": [],
   "source": [
    "# Solve Question 4 below\n",
    "\n",
    "# It was not required to order by, but I did for convenience.\n",
    "db_cursor.execute(\"\"\"SELECT p.product_category_name, MIN(price) as min_price\n",
    "                    FROM products p, order_items o\n",
    "                    WHERE o.product_id = p.product_id\n",
    "                    group by p.product_category_name\n",
    "                    having p.product_category_name != \"moveis_decoracao\" and p.product_category_name != \"beleza_saude\" \n",
    "                    order by min_price\n",
    "                    LIMIT 6\"\"\")\n",
    "\n",
    "category_min_price = db_cursor.fetchall()"
   ]
  },
  {
   "cell_type": "code",
   "execution_count": 78,
   "metadata": {},
   "outputs": [
    {
     "name": "stdout",
     "output_type": "stream",
     "text": [
      "[('bebes', 3.54), ('informatica_acessorios', 3.9), ('fashion_underwear_e_moda_praia', 3.9), ('papelaria', 4.2), ('utilidades_domesticas', 4.4), ('instrumentos_musicais', 4.9)]\n",
      "#######\n",
      "bebes -> 3.54\n",
      "informatica_acessorios -> 3.9\n",
      "fashion_underwear_e_moda_praia -> 3.9\n",
      "papelaria -> 4.2\n",
      "utilidades_domesticas -> 4.4\n",
      "instrumentos_musicais -> 4.9\n"
     ]
    }
   ],
   "source": [
    "print(category_min_price)\n",
    "category, min_price = map(list, zip(*category_min_price))\n",
    "print(\"#######\")\n",
    "for i in range(len(category)):\n",
    "    print(category[i], \"->\", min_price[i])"
   ]
  },
  {
   "cell_type": "markdown",
   "metadata": {},
   "source": [
    "## Question 5 (10 pts)"
   ]
  },
  {
   "cell_type": "code",
   "execution_count": 79,
   "metadata": {},
   "outputs": [],
   "source": [
    "# Draw a pie chart using the data from the previous question.\n",
    "# Labels of your pie chart should be the product categories.\n",
    "# Contents of your pie chart (i.e., sizes of the pie slices) should be determined by the min prices."
   ]
  },
  {
   "cell_type": "code",
   "execution_count": 80,
   "metadata": {},
   "outputs": [
    {
     "data": {
      "image/png": "[encoded data removed]",
      "text/plain": [
       "<Figure size 432x288 with 1 Axes>"
      ]
     },
     "metadata": {},
     "output_type": "display_data"
    }
   ],
   "source": [
    "# Solve Question 5 below\n",
    "explode = [0.0 for _ in range(len(category))]\n",
    "fig1, ax1 = plt.subplots()\n",
    "ax1.pie(min_price, explode=explode, labels=category, autopct='%1.0f%%', shadow=True, startangle=40)\n",
    "ax1.axis('equal') \n",
    "plt.show()"
   ]
  },
  {
   "cell_type": "markdown",
   "metadata": {},
   "source": [
    "## Question 6 (15 pts)"
   ]
  },
  {
   "cell_type": "code",
   "execution_count": 81,
   "metadata": {},
   "outputs": [],
   "source": [
    "# Let us define \"large products\" as those products with weight > 400 and length > 10.\n",
    "# Some orders that contain a large product can have large discrepancies between their order_delivered_carrier_date and \n",
    "# order_delivered_customer_date. \n",
    "# Let us define \"strange orders that contain large products\" as those orders which contain a large product and the \n",
    "# difference between their order_delivered_carrier_date and order_delivered_customer_date is larger than 100 days.\n",
    "\n",
    "# For all \"strange orders that contain large products\", find their order IDs and the number of days difference between \n",
    "# their order_delivered_carrier_date and order_delivered_customer_date.\n",
    "# Result should be like: \"abc21312df\" -> 32, \"dhs230kdf8\" -> 29, ...\n",
    "\n",
    "# HINT: Using the same MySQL function as Question 1 may help."
   ]
  },
  {
   "cell_type": "code",
   "execution_count": 82,
   "metadata": {},
   "outputs": [],
   "source": [
    "# Solve Question 6 below\n",
    "\n",
    "db_cursor.execute(\"\"\"SELECT DISTINCT order_items.order_id, DATEDIFF(o.order_delivered_customer_date,o.order_delivered_carrier_date) as date_diff\n",
    "                    from orders o, order_items\n",
    "                    where DATEDIFF(o.order_delivered_customer_date,o.order_delivered_carrier_date) > 100 and o.order_id = order_items.order_id and order_items.product_id IN(\n",
    "                    (SELECT p.product_id\n",
    "                    from products p\n",
    "                    where p.product_weight_g > 400 and p.product_length_cm > 10) \n",
    "                    )\"\"\")\n",
    "\n",
    "large_strange_products = db_cursor.fetchall()\n",
    "\n"
   ]
  },
  {
   "cell_type": "code",
   "execution_count": 83,
   "metadata": {},
   "outputs": [
    {
     "name": "stdout",
     "output_type": "stream",
     "text": [
      "#######\n",
      "6e3a1f3ec46461756c3f620e267aa1b8 -> 103\n",
      "d24e8541128cea179a11a65176e0a96f -> 171\n",
      "3b919fbc512d96f81330d2aae3ed0cf6 -> 106\n",
      "0f4519c5f1c541ddec9f21b3bddd533a -> 181\n",
      "e52c9dfec957c503bed5d050a39c740f -> 103\n",
      "031e7d4e559a1bf08e71a419aa998d0a -> 165\n",
      "437222e3fd1b07396f1d9ba8c15fba59 -> 182\n",
      "525e11b26fdb7f41471d289897d0f6da -> 167\n",
      "47b40429ed8cce3aee9199792275433f -> 157\n",
      "1b3190b2dfa9d789e1f14c05b647a14a -> 205\n",
      "2ba1366baecad3c3536f27546d129017 -> 179\n",
      "dfe5f68118c2576143240b8d78e5940a -> 182\n",
      "0b32bf55276b5feb681f6ed6fd670692 -> 143\n",
      "d8dbb44d7c5b1fd8e7f41b49e27053d7 -> 104\n",
      "cce224811ba8fea016c049693c3e0402 -> 146\n",
      "6e82dcfb5eada6283dba34f164e636f5 -> 181\n",
      "160d1364f477494647a995f6bbec0b5f -> 105\n",
      "7e708aed151d6a8601ce8f2eaa712bf4 -> 135\n",
      "a4efaffc506a395c9cea7402b078c1e5 -> 103\n"
     ]
    }
   ],
   "source": [
    "# print(large_strange_products)\n",
    "order_id, date_diff = map(list, zip(*large_strange_products))\n",
    "print(\"#######\")\n",
    "for i in range(len(order_id)):\n",
    "    print(order_id[i], \"->\", date_diff[i])"
   ]
  },
  {
   "cell_type": "markdown",
   "metadata": {},
   "source": [
    "## Question 7 (10 pts)"
   ]
  },
  {
   "cell_type": "code",
   "execution_count": 84,
   "metadata": {},
   "outputs": [],
   "source": [
    "# Draw a bar chart using the data from the previous question.\n",
    "# Order IDs should be on the x-axis.\n",
    "# Number of days difference should be on the y-axis.\n",
    "# (Although we are not looking for production quality figures, make sure that your plots are readable.)"
   ]
  },
  {
   "cell_type": "code",
   "execution_count": 85,
   "metadata": {},
   "outputs": [
    {
     "data": {
      "image/png": "[encoded data removed]",
      "text/plain": [
       "<Figure size 432x288 with 1 Axes>"
      ]
     },
     "metadata": {
      "needs_background": "light"
     },
     "output_type": "display_data"
    }
   ],
   "source": [
    "# Solve Question 7 below\n",
    "fig = plt.figure()\n",
    "ax = fig.add_axes([0,0,1,1])\n",
    "ax.bar(order_id, date_diff)\n",
    "plt.setp(ax.get_xticklabels(), rotation=30, horizontalalignment='right')\n",
    "plt.show()"
   ]
  },
  {
   "cell_type": "markdown",
   "metadata": {},
   "source": [
    "## Question 8 (15 pts)"
   ]
  },
  {
   "cell_type": "code",
   "execution_count": 86,
   "metadata": {},
   "outputs": [],
   "source": [
    "# Write an SQL query to find the total number of orders per week day, e.g., Monday -> 150 orders, Tuesday -> 200 orders,\n",
    "# Wednesday -> 500 orders, etc. Use the \"order_purchase_timestamp\" attribute when counting the number of orders.\n",
    "# Plot the result using a bar chart (days of week on x-axis, number of orders on y-axis). \n",
    "\n",
    "# HINT: Check out the \"WEEKDAY\" function of MySQL. "
   ]
  },
  {
   "cell_type": "code",
   "execution_count": 87,
   "metadata": {},
   "outputs": [],
   "source": [
    "# Solve Question 8 below\n",
    "\n",
    "db_cursor.execute(\"\"\"\n",
    "                    SELECT WEEKDAY(o.order_purchase_timestamp) as weekdays, COUNT(o.order_id)\n",
    "                    from orders o\n",
    "                    group by weekdays\"\"\")\n",
    "weekday_order = db_cursor.fetchall()\n",
    "\n"
   ]
  },
  {
   "cell_type": "code",
   "execution_count": 88,
   "metadata": {},
   "outputs": [
    {
     "name": "stdout",
     "output_type": "stream",
     "text": [
      "[0, 1, 2, 5, 6, 3, 4] [16196, 15963, 15552, 10887, 11960, 14761, 14122]\n"
     ]
    }
   ],
   "source": [
    "weekday, order = map(list, zip(*weekday_order))\n",
    "print(weekday, order)"
   ]
  },
  {
   "cell_type": "code",
   "execution_count": 89,
   "metadata": {},
   "outputs": [
    {
     "data": {
      "image/png": "[encoded data removed]",
      "text/plain": [
       "<Figure size 432x288 with 1 Axes>"
      ]
     },
     "metadata": {
      "needs_background": "light"
     },
     "output_type": "display_data"
    }
   ],
   "source": [
    "fig = plt.figure()\n",
    "ax = fig.add_axes([0,0,1,1])\n",
    "ax.bar(weekday, order)\n",
    "plt.setp(ax.get_xticklabels(), rotation=30, horizontalalignment='right')\n",
    "plt.show()"
   ]
  },
  {
   "cell_type": "code",
   "execution_count": 90,
   "metadata": {},
   "outputs": [],
   "source": [
    "db_cursor.close()\n",
    "db_connection.close()"
   ]
  },
  {
   "cell_type": "code",
   "execution_count": null,
   "metadata": {},
   "outputs": [],
   "source": []
  }
 ],
 "metadata": {
  "kernelspec": {
   "display_name": "Python 3 (ipykernel)",
   "language": "python",
   "name": "python3"
  },
  "language_info": {
   "codemirror_mode": {
    "name": "ipython",
    "version": 3
   },
   "file_extension": ".py",
   "mimetype": "text/x-python",
   "name": "python",
   "nbconvert_exporter": "python",
   "pygments_lexer": "ipython3",
   "version": "3.9.5"
  }
 },
 "nbformat": 4,
 "nbformat_minor": 4
}
